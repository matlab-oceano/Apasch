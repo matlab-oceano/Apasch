{
 "cells": [
  {
   "cell_type": "code",
   "execution_count": 5,
   "id": "0524b302",
   "metadata": {},
   "outputs": [
    {
     "name": "stdout",
     "output_type": "stream",
     "text": [
      "hello geeks\n",
      "hello geeks\n",
      "hello geeks\n",
      "hello geeks\n",
      "hello geeks\n",
      "hello geeks\n",
      "hello geeks\n",
      "hello geeks\n",
      "hello geeks\n",
      "hello geeks\n",
      "\n"
     ]
    }
   ],
   "source": [
    "# import only system from os\n",
    "from os import system, name\n",
    "  \n",
    "# import sleep to show output for some time period\n",
    "from time import sleep\n",
    "  \n",
    "# define our clear function\n",
    "def clear():\n",
    "  \n",
    "    # for windows\n",
    "    if name == 'nt':\n",
    "        _ = system('cls')\n",
    "  \n",
    "    # for mac and linux(here, os.name is 'posix')\n",
    "    else:\n",
    "        _ = system('clear')\n",
    "  \n",
    "print('hello geeks\\n'*10)\n",
    "  \n",
    "# sleep for 2 seconds after printing output\n",
    "# now call function we defined above\n",
    "clear()"
   ]
  },
  {
   "cell_type": "code",
   "execution_count": 8,
   "id": "afb4aa09",
   "metadata": {},
   "outputs": [],
   "source": [
    "clear()"
   ]
  },
  {
   "cell_type": "code",
   "execution_count": null,
   "id": "e60c1f16",
   "metadata": {},
   "outputs": [],
   "source": []
  }
 ],
 "metadata": {
  "kernelspec": {
   "display_name": "Python 3",
   "language": "python",
   "name": "python3"
  },
  "language_info": {
   "codemirror_mode": {
    "name": "ipython",
    "version": 3
   },
   "file_extension": ".py",
   "mimetype": "text/x-python",
   "name": "python",
   "nbconvert_exporter": "python",
   "pygments_lexer": "ipython3",
   "version": "3.7.6"
  }
 },
 "nbformat": 4,
 "nbformat_minor": 5
}
